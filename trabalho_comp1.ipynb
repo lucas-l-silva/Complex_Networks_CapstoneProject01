{
 "cells": [
  {
   "cell_type": "markdown",
   "metadata": {},
   "source": [
    "## Trabalho Computacional 1 - Redes Complexas"
   ]
  },
  {
   "cell_type": "markdown",
   "metadata": {},
   "source": [
    "### Questão 1 (1.5)\n",
    "\n",
    "1. Considere as instâncias armazenadas no [repo](https://github.com/jesusossian/complex_networks_2024_1/tree/main/data/work1) e monte um grafo(rede) de acordo com a alocação instância-aluno a seguir:\n",
    "- BRUNA VITORIA OLIVEIRA DA SILVA: san200-0-7-1.mtx\n",
    "- FRANCISCO WILTON PEREIRA LIMA: san200-0-7-2.mtx\n",
    "- GUILHERME SILVA MATOS MACIEL: san200-0-9-1.mtx\n",
    "- IANNE CAROLINE PINTO MENDES: san200-0-9-2.mtx\n",
    "- LUCAS LOPES SILVA: san200-0-9-3.mtx\n",
    "- LUCAS RIAN DE SOUSA PEREIRA: sanr200-0-7\n",
    "- ANTÔNIO GEOVANE CAVALCANTE DA SILVA: sanr200-0-9\n",
    "\n",
    "2. Elabore um gráfico para o grafo(rede).\n",
    "3. Esse grafo é conexo? Justifique.\n",
    "4. Qual o número de vértices e arestas do grafo?"
   ]
  },
  {
   "cell_type": "markdown",
   "metadata": {},
   "source": [
    "### Questão 2 (1.5)\n",
    "Utilizando o grafo construida na questão 1. \n",
    "Calcule as seguintes métricas.\n",
    "\n",
    "1. Densidade.\n",
    "2. Comprimento médio dos caminhos.\n",
    "3. Coeficiente de agrupamento total do grafo.\n",
    "4. Elabore um texto de acordo com suas observações e conclusões em relação aos itens 1-3."
   ]
  },
  {
   "cell_type": "markdown",
   "metadata": {},
   "source": [
    "### Questão 3 (2.0)\n",
    "Utilizando o grafo construido na questão 1. \n",
    "Calcule as seguintes métricas para o grafo.\n",
    "\n",
    "1. Excentricidade.\n",
    "2. Comprimento médio dos caminhos.\n",
    "3. Grau dos vértices. Qual(is) vértice(s) tem o maior grau.\n",
    "4. Centralidade de proximidade.\n",
    "5. Centralidade de intermediação.\n",
    "6. Elabore um gráfico mostrando cada uma das médidas calculadas nos itens 1-5.\n",
    "7. Elabore um texto de acordo com suas observações e conclusões em relação aos itens 1-5."
   ]
  },
  {
   "cell_type": "markdown",
   "metadata": {},
   "source": [
    "### Questão 4 (2.0)\n",
    "\n",
    "Utilizando a rede construida na questão 1. \n",
    "Calcule as métricas de centralidade da centralidade.\n",
    "\n",
    "1. Centralidade de Autovetor.\n",
    "2. Centralidade de PageRank (alpha=0.65).\n",
    "3. Centralidade de Katz (alpha=0.08,beta=1).\n",
    "4. Elabore um gráfico que mostre os resultados encontrados nos itens 1-3.\n",
    "5. Elabore um texto com suas observações e conclusões em relação aos itens 1-3."
   ]
  },
  {
   "cell_type": "markdown",
   "metadata": {},
   "source": [
    "### Questão 5 (1.5)\n",
    "Considere o arquivo **ia-infect-dublin.mtx** armazenado no repositório [repo](https://github.com/jesusossian/complex_networks_2024_1/tree/main/data/work1).\n",
    "\n",
    "1. Gere o grafo(rede) associado ao arquivo\n",
    "2. Gere um conjunto com os **core number** do grafo.\n",
    "3. Para cada **core number** gere uma lista com seus respectivos vértices.\n",
    "4. Selecione um $k$ do conjunto gerado no item 1. Encontre os vértices pertecentes ao $k$-core e gere o subgrafo associado a esse $k$-core.\n",
    "5. Selecione um $k$ do conjunto gerado no item 1. Encontre os vértices pertecentes ao $k$-shell e gere o subgrafo associado a esse $k$-shell."
   ]
  },
  {
   "cell_type": "markdown",
   "metadata": {},
   "source": [
    "### Questão 6 (1.5)"
   ]
  },
  {
   "cell_type": "markdown",
   "metadata": {},
   "source": [
    "Dado o arquivo(dataset) **ia-hospital-ward-proximity-attr.csv** armazenado em [repo](https://github.com/jesusossian/complex_networks_2024_1/tree/main/data/work1), faça o que se pede:\n",
    "1. Crie o grafo(rede) associado ao dataset.\n",
    "2. Gere um gráfico para mostrar o grafo criado.\n",
    "3. Calcule a assortatividade dos atributos categóricos em relação aos status(NUR=paramedical staff; PAT=Patient; MED=Medical doctor; ADM=administrative staff) dos vértices do grafo.\n",
    "4. Gere um gráfico que mostre os resultados obtidos no item 3.\n",
    "\n",
    "**Observação:** Considere um único contanto entre os individuo na definição das arestas.\n",
    "\n",
    "**Descrição do arquivo:** \n",
    "\n",
    "This dataset contains the temporal network of contacts between patients, patients and health-care workers (HCWs) and among HCWs in a hospital ward in Lyon, France, from Monday, December 6, 2010 at 1:00 pm to Friday, December 10, 2010 at 2:00 pm. \n",
    "\n",
    "The file contains a tab-separated list representing the active contacts during 20-second intervals of the data collection. \n",
    "\n",
    "Each line has the form **i, j, t, Si, Sj**, \n",
    "where i and j are the anonymous IDs of the persons in contact, \n",
    "Si and Sj are their statuses (NUR=paramedical staff; PAT=Patient; MED=Medical doctor; ADM=administrative staff), and \n",
    "the interval during which this contact was active is [t-20s, t]. \n",
    "\n",
    "If multiple contacts are active in a given interval, you will see multiple lines starting with the same value of t. Time is measured in seconds.\n",
    "\n",
    "- 1 = NUR/paramedical staff; \n",
    "- 2 = PAT/Patient; \n",
    "- 3 = MED/Medical doctor; \n",
    "- 4 = ADM/administrative staff"
   ]
  },
  {
   "cell_type": "markdown",
   "metadata": {},
   "source": []
  }
 ],
 "metadata": {
  "kernelspec": {
   "display_name": "Python 3",
   "language": "python",
   "name": "python3"
  },
  "language_info": {
   "codemirror_mode": {
    "name": "ipython",
    "version": 3
   },
   "file_extension": ".py",
   "mimetype": "text/x-python",
   "name": "python",
   "nbconvert_exporter": "python",
   "pygments_lexer": "ipython3",
   "version": "3.10.12"
  }
 },
 "nbformat": 4,
 "nbformat_minor": 2
}
